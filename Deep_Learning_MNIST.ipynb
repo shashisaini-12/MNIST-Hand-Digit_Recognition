{
 "cells": [
  {
   "cell_type": "markdown",
   "id": "78b3848f",
   "metadata": {},
   "source": [
    "# MNIST HAND-DIGIT RECOGNITION MODEL"
   ]
  },
  {
   "cell_type": "markdown",
   "id": "32c139f8",
   "metadata": {},
   "source": [
    "~~~~~~~~~~~~~~~~~~~~~~~~~~~~~~~~~~~~~~~~~~~~~~~~~~~~~~~~~~~~~~~~~~~~~~~~~~~~~~~~~~~~~~~~~~~~~~~~~~~~~~~~~~~~~~~~~~~~~~~~~"
   ]
  },
  {
   "cell_type": "code",
   "execution_count": 5,
   "id": "b3232469",
   "metadata": {},
   "outputs": [],
   "source": [
    "import mnist_loader\n",
    "training_data, validation_data, test_data = mnist_loader.load_data_wrapper()"
   ]
  },
  {
   "cell_type": "code",
   "execution_count": 6,
   "id": "c660b7ea",
   "metadata": {},
   "outputs": [],
   "source": [
    "import network\n",
    "net = network.Network([784, 30, 10])"
   ]
  },
  {
   "cell_type": "code",
   "execution_count": 3,
   "id": "f1fe0d34",
   "metadata": {},
   "outputs": [
    {
     "name": "stdout",
     "output_type": "stream",
     "text": [
      "Epoch 0 : 9096 / 10000\n",
      "Epoch 1 : 9246 / 10000\n",
      "Epoch 2 : 9225 / 10000\n",
      "Epoch 3 : 9289 / 10000\n",
      "Epoch 4 : 9301 / 10000\n",
      "Epoch 5 : 9358 / 10000\n",
      "Epoch 6 : 9341 / 10000\n",
      "Epoch 7 : 9382 / 10000\n",
      "Epoch 8 : 9366 / 10000\n",
      "Epoch 9 : 9383 / 10000\n",
      "Epoch 10 : 9414 / 10000\n",
      "Epoch 11 : 9400 / 10000\n",
      "Epoch 12 : 9397 / 10000\n",
      "Epoch 13 : 9441 / 10000\n",
      "Epoch 14 : 9456 / 10000\n",
      "Epoch 15 : 9444 / 10000\n",
      "Epoch 16 : 9428 / 10000\n",
      "Epoch 17 : 9439 / 10000\n",
      "Epoch 18 : 9483 / 10000\n",
      "Epoch 19 : 9473 / 10000\n",
      "Epoch 20 : 9479 / 10000\n",
      "Epoch 21 : 9475 / 10000\n",
      "Epoch 22 : 9467 / 10000\n",
      "Epoch 23 : 9472 / 10000\n",
      "Epoch 24 : 9458 / 10000\n",
      "Epoch 25 : 9457 / 10000\n",
      "Epoch 26 : 9455 / 10000\n",
      "Epoch 27 : 9474 / 10000\n",
      "Epoch 28 : 9462 / 10000\n",
      "Epoch 29 : 9468 / 10000\n"
     ]
    }
   ],
   "source": [
    "net.SGD(training_data, 30, 10, 3.0, test_data=test_data)"
   ]
  },
  {
   "cell_type": "code",
   "execution_count": 7,
   "id": "c2fb4790",
   "metadata": {},
   "outputs": [
    {
     "name": "stdout",
     "output_type": "stream",
     "text": [
      "Epoch 0 : 8816 / 10000\n",
      "Epoch 1 : 9057 / 10000\n",
      "Epoch 2 : 9151 / 10000\n",
      "Epoch 3 : 9191 / 10000\n",
      "Epoch 4 : 9263 / 10000\n",
      "Epoch 5 : 9282 / 10000\n",
      "Epoch 6 : 9312 / 10000\n",
      "Epoch 7 : 9331 / 10000\n",
      "Epoch 8 : 9339 / 10000\n",
      "Epoch 9 : 9374 / 10000\n",
      "Epoch 10 : 9365 / 10000\n",
      "Epoch 11 : 9377 / 10000\n",
      "Epoch 12 : 9396 / 10000\n",
      "Epoch 13 : 9392 / 10000\n",
      "Epoch 14 : 9417 / 10000\n",
      "Epoch 15 : 9403 / 10000\n",
      "Epoch 16 : 9419 / 10000\n",
      "Epoch 17 : 9415 / 10000\n",
      "Epoch 18 : 9405 / 10000\n",
      "Epoch 19 : 9420 / 10000\n",
      "Epoch 20 : 9445 / 10000\n",
      "Epoch 21 : 9441 / 10000\n",
      "Epoch 22 : 9457 / 10000\n",
      "Epoch 23 : 9450 / 10000\n",
      "Epoch 24 : 9441 / 10000\n",
      "Epoch 25 : 9453 / 10000\n",
      "Epoch 26 : 9448 / 10000\n",
      "Epoch 27 : 9453 / 10000\n",
      "Epoch 28 : 9462 / 10000\n",
      "Epoch 29 : 9458 / 10000\n"
     ]
    }
   ],
   "source": [
    "net.SGD(training_data, 30, 10, 1.0, test_data = test_data)"
   ]
  },
  {
   "cell_type": "code",
   "execution_count": 8,
   "id": "7e1543eb",
   "metadata": {},
   "outputs": [],
   "source": [
    "import mnist_loader\n",
    "training_data, validation_data, test_data = mnist_loader.load_data_wrapper()\n",
    "\n",
    "import network\n",
    "net = network.Network([784, 50, 10])"
   ]
  },
  {
   "cell_type": "code",
   "execution_count": 9,
   "id": "bad54d23",
   "metadata": {},
   "outputs": [
    {
     "name": "stdout",
     "output_type": "stream",
     "text": [
      "Epoch 0 : 8821 / 10000\n",
      "Epoch 1 : 9122 / 10000\n",
      "Epoch 2 : 9254 / 10000\n",
      "Epoch 3 : 9297 / 10000\n",
      "Epoch 4 : 9350 / 10000\n",
      "Epoch 5 : 9357 / 10000\n",
      "Epoch 6 : 9366 / 10000\n",
      "Epoch 7 : 9399 / 10000\n",
      "Epoch 8 : 9414 / 10000\n",
      "Epoch 9 : 9389 / 10000\n",
      "Epoch 10 : 9432 / 10000\n",
      "Epoch 11 : 9441 / 10000\n",
      "Epoch 12 : 9449 / 10000\n",
      "Epoch 13 : 9463 / 10000\n",
      "Epoch 14 : 9457 / 10000\n",
      "Epoch 15 : 9442 / 10000\n",
      "Epoch 16 : 9462 / 10000\n",
      "Epoch 17 : 9471 / 10000\n",
      "Epoch 18 : 9469 / 10000\n",
      "Epoch 19 : 9477 / 10000\n",
      "Epoch 20 : 9482 / 10000\n",
      "Epoch 21 : 9485 / 10000\n",
      "Epoch 22 : 9482 / 10000\n",
      "Epoch 23 : 9493 / 10000\n",
      "Epoch 24 : 9494 / 10000\n",
      "Epoch 25 : 9507 / 10000\n",
      "Epoch 26 : 9503 / 10000\n",
      "Epoch 27 : 9514 / 10000\n",
      "Epoch 28 : 9506 / 10000\n",
      "Epoch 29 : 9506 / 10000\n"
     ]
    }
   ],
   "source": [
    "net.SGD(training_data, 30, 10, 1.0, test_data = test_data)"
   ]
  },
  {
   "cell_type": "code",
   "execution_count": 10,
   "id": "47cf5cba",
   "metadata": {},
   "outputs": [],
   "source": [
    "import mnist_loader\n",
    "training_data, validation_data, test_data = mnist_loader.load_data_wrapper()\n",
    "\n",
    "import network\n",
    "net = network.Network([784, 30, 20, 10])"
   ]
  },
  {
   "cell_type": "code",
   "execution_count": 11,
   "id": "89c81c5d",
   "metadata": {},
   "outputs": [
    {
     "name": "stdout",
     "output_type": "stream",
     "text": [
      "Epoch 0 : 8652 / 10000\n",
      "Epoch 1 : 9015 / 10000\n",
      "Epoch 2 : 9153 / 10000\n",
      "Epoch 3 : 9227 / 10000\n",
      "Epoch 4 : 9235 / 10000\n",
      "Epoch 5 : 9304 / 10000\n",
      "Epoch 6 : 9345 / 10000\n",
      "Epoch 7 : 9384 / 10000\n",
      "Epoch 8 : 9396 / 10000\n",
      "Epoch 9 : 9407 / 10000\n",
      "Epoch 10 : 9391 / 10000\n",
      "Epoch 11 : 9435 / 10000\n",
      "Epoch 12 : 9440 / 10000\n",
      "Epoch 13 : 9404 / 10000\n",
      "Epoch 14 : 9423 / 10000\n",
      "Epoch 15 : 9425 / 10000\n",
      "Epoch 16 : 9437 / 10000\n",
      "Epoch 17 : 9455 / 10000\n",
      "Epoch 18 : 9446 / 10000\n",
      "Epoch 19 : 9480 / 10000\n",
      "Epoch 20 : 9455 / 10000\n",
      "Epoch 21 : 9473 / 10000\n",
      "Epoch 22 : 9474 / 10000\n",
      "Epoch 23 : 9476 / 10000\n",
      "Epoch 24 : 9474 / 10000\n",
      "Epoch 25 : 9478 / 10000\n",
      "Epoch 26 : 9485 / 10000\n",
      "Epoch 27 : 9488 / 10000\n",
      "Epoch 28 : 9478 / 10000\n",
      "Epoch 29 : 9453 / 10000\n"
     ]
    }
   ],
   "source": [
    "net.SGD(training_data, 30, 10, 1.0, test_data = test_data)"
   ]
  },
  {
   "cell_type": "code",
   "execution_count": 12,
   "id": "9b4d2aa8",
   "metadata": {},
   "outputs": [],
   "source": [
    "import mnist_loader\n",
    "training_data, validation_data, test_data = mnist_loader.load_data_wrapper()\n",
    "\n",
    "import network\n",
    "net = network.Network([784, 10])"
   ]
  },
  {
   "cell_type": "code",
   "execution_count": 13,
   "id": "a3b9a217",
   "metadata": {},
   "outputs": [
    {
     "name": "stdout",
     "output_type": "stream",
     "text": [
      "Epoch 0 : 5661 / 10000\n",
      "Epoch 1 : 6545 / 10000\n",
      "Epoch 2 : 6601 / 10000\n",
      "Epoch 3 : 6613 / 10000\n",
      "Epoch 4 : 6630 / 10000\n",
      "Epoch 5 : 6628 / 10000\n",
      "Epoch 6 : 6623 / 10000\n",
      "Epoch 7 : 6646 / 10000\n",
      "Epoch 8 : 6683 / 10000\n",
      "Epoch 9 : 7377 / 10000\n",
      "Epoch 10 : 7429 / 10000\n",
      "Epoch 11 : 7495 / 10000\n",
      "Epoch 12 : 7774 / 10000\n",
      "Epoch 13 : 8336 / 10000\n",
      "Epoch 14 : 8363 / 10000\n",
      "Epoch 15 : 8347 / 10000\n",
      "Epoch 16 : 8382 / 10000\n",
      "Epoch 17 : 8374 / 10000\n",
      "Epoch 18 : 8396 / 10000\n",
      "Epoch 19 : 8397 / 10000\n",
      "Epoch 20 : 8402 / 10000\n",
      "Epoch 21 : 8414 / 10000\n",
      "Epoch 22 : 8393 / 10000\n",
      "Epoch 23 : 8408 / 10000\n",
      "Epoch 24 : 8390 / 10000\n",
      "Epoch 25 : 8426 / 10000\n",
      "Epoch 26 : 8415 / 10000\n",
      "Epoch 27 : 8427 / 10000\n",
      "Epoch 28 : 8419 / 10000\n",
      "Epoch 29 : 8392 / 10000\n"
     ]
    }
   ],
   "source": [
    "net.SGD(training_data, 30, 10, 1.0, test_data = test_data)"
   ]
  },
  {
   "cell_type": "code",
   "execution_count": null,
   "id": "8bec0b4f",
   "metadata": {},
   "outputs": [],
   "source": []
  }
 ],
 "metadata": {
  "kernelspec": {
   "display_name": "Python 3 (ipykernel)",
   "language": "python",
   "name": "python3"
  },
  "language_info": {
   "codemirror_mode": {
    "name": "ipython",
    "version": 3
   },
   "file_extension": ".py",
   "mimetype": "text/x-python",
   "name": "python",
   "nbconvert_exporter": "python",
   "pygments_lexer": "ipython3",
   "version": "3.9.12"
  }
 },
 "nbformat": 4,
 "nbformat_minor": 5
}
